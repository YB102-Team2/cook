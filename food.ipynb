{
 "metadata": {
  "name": "",
  "signature": "sha256:7424e9078216f9764fd6c1bb4eb64feb3c24ef95db9d8061e120377406a0f53b"
 },
 "nbformat": 3,
 "nbformat_minor": 0,
 "worksheets": [
  {
   "cells": [
    {
     "cell_type": "code",
     "collapsed": false,
     "input": [
      "import requests\n",
      "import re\n",
      "from bs4 import BeautifulSoup"
     ],
     "language": "python",
     "metadata": {},
     "outputs": [],
     "prompt_number": 1
    },
    {
     "cell_type": "code",
     "collapsed": false,
     "input": [
      "res = requests.get('http://icook.tw/')"
     ],
     "language": "python",
     "metadata": {},
     "outputs": [],
     "prompt_number": 4
    },
    {
     "cell_type": "code",
     "collapsed": false,
     "input": [
      "soup = BeautifulSoup(res.text)\n",
      "# \u4f7f\u7528select\u9047\u5230\u554f\u984c  \u6539\u7528find\n",
      "# soup = soup.select('.side-menu')\n",
      "\n",
      "# \u7528re.compile\u6bd4\u5c0d\u6b63\u5247\u8868\u9054\u5f0f\n",
      "soup = soup.find_all('a', {'href':re.compile('categories'), 'title':True})\n",
      "# soup\u70baclass\u7269\u4ef6,\u5c07\u5176\u8f49\u70balist\u578b\u614b\u4f86\u64cd\u4f5c\n",
      "soup = list(soup)\n",
      "\n",
      "links = []\n",
      "names = []\n",
      "# \u628a\u6240\u6709link\u5b58\u8d77\u4f86\n",
      "for i in range(len(soup)):\n",
      "    # soup\u5167\u70batag\u7269\u4ef6,\u5c07\u5176\u8f49\u70bastring\u4f86\u64cd\u4f5c\n",
      "    tmp = str(soup[i])\n",
      "    head_idx = tmp.index('categories')\n",
      "    tail_idx = tmp.index('title') - 2\n",
      "    links.append('http://icook.tw/' + tmp[head_idx: tail_idx])\n",
      "\n",
      "for i in range(len(soup)):\n",
      "    tmp = str(soup[i])\n",
      "    head_idx = tmp.index('title') + 7\n",
      "    tail_idx = tmp.index('>') - 1\n",
      "    names.append(tmp[head_idx: tail_idx])\n",
      "for i in range(len(links)):\n",
      "    print names[i], links[i]"
     ],
     "language": "python",
     "metadata": {},
     "outputs": [
      {
       "output_type": "stream",
       "stream": "stdout",
       "text": [
        "\u5e74\u83dc\u98df\u8b5c http://icook.tw/categories/50?ref=feature-categories\n",
        "\u624b\u5de5\u9905\u4e7e http://icook.tw/categories/17?ref=feature-categories\n",
        "\u9eb5\u5305\u3001\u5410\u53f8 http://icook.tw/categories/15?ref=feature-categories\n",
        "\u9b06\u9905 http://icook.tw/categories/200?ref=feature-categories\n",
        "\u86cb\u7cd5 http://icook.tw/categories/16?ref=feature-categories\n",
        "\u751c\u9ede http://icook.tw/categories/22?ref=feature-categories\n",
        "\u4e2d\u5f0f\u9ede\u5fc3 http://icook.tw/categories/21?ref=feature-categories\n",
        "\u6e6f\u54c1 http://icook.tw/categories/8?ref=feature-categories\n",
        "\u8089\u985e\u6599\u7406 http://icook.tw/categories/1?ref=feature-categories\n",
        "\u6d77\u9bae\u6599\u7406 http://icook.tw/categories/3?ref=feature-categories\n",
        "\u5357\u74dc http://icook.tw/categories/114?ref=feature-categories\n",
        "\u96fb\u934b\u98df\u8b5c http://icook.tw/categories/26?ref=feature-categories\n",
        "\u60b6\u71d2\u676f\u98df\u8b5c http://icook.tw/categories/417?ref=feature-categories\n",
        "\u65e9\u9910\u98df\u8b5c http://icook.tw/categories/147?ref=feature-categories\n",
        "\u7d20\u98df\u6599\u7406 http://icook.tw/categories/28?ref=feature-categories\n",
        "\u7f8e\u5bb9\u990a\u751f http://icook.tw/categories/352?ref=feature-categories\n",
        "\u7570\u570b\u6599\u7406 http://icook.tw/categories/351?ref=feature-categories\n",
        "\u7701\u9322\u61f6\u4eba http://icook.tw/categories/437?ref=feature-categories\n",
        "\u51ac\u4ee4\u9032\u88dc http://icook.tw/categories/66?ref=feature-categories\n"
       ]
      }
     ],
     "prompt_number": 29
    },
    {
     "cell_type": "code",
     "collapsed": false,
     "input": [],
     "language": "python",
     "metadata": {},
     "outputs": []
    }
   ],
   "metadata": {}
  }
 ]
}