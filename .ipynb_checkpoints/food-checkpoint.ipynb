{
 "metadata": {
  "name": "",
  "signature": "sha256:72b1f92dcedf7ceb2d693d6cc89a1784ea5bd76fd87086f633b6f03647196234"
 },
 "nbformat": 3,
 "nbformat_minor": 0,
 "worksheets": [
  {
   "cells": [
    {
     "cell_type": "code",
     "collapsed": false,
     "input": [
      "import requests\n",
      "import re\n",
      "from bs4 import BeautifulSoup\n",
      "import time"
     ],
     "language": "python",
     "metadata": {},
     "outputs": [],
     "prompt_number": 2
    },
    {
     "cell_type": "code",
     "collapsed": false,
     "input": [
      "res = requests.get('http://icook.tw/')\n"
     ],
     "language": "python",
     "metadata": {},
     "outputs": [],
     "prompt_number": 3
    },
    {
     "cell_type": "code",
     "collapsed": false,
     "input": [
      "# \u9019\u500bblock\u73fe\u5728\u6c92\u7528\n",
      "'''\n",
      "soup = BeautifulSoup(res.text)\n",
      "soup = soup.select('.side-menu')\n",
      "soup = soup.find_all('a', {'href':re.compile('categories'), 'title':True})\n",
      "soup = list(soup)\n",
      "links = []\n",
      "names = []\n",
      "for i in range(len(soup)):\\n\",\n",
      "    tmp = str(soup[i])\\n\",\n",
      "    head_idx = tmp.index('categories')\\n\",\n",
      "    tail_idx = tmp.index('title') - 2\\n\",\n",
      "    links.append('http://icook.tw/' + tmp[head_idx: tail_idx])\\n\",\n",
      "    \n",
      "for i in range(len(soup)):\\n\",\n",
      "    tmp = str(soup[i])\\n\",\n",
      "    head_idx = tmp.index('title') + 7\n",
      "    tail_idx = tmp.index('>') - 1\n",
      "    names.append(tmp[head_idx: tail_idx])\n",
      "for i in range(len(links)):\n",
      "    print names[i], links[i]\"\n",
      "'''"
     ],
     "language": "python",
     "metadata": {},
     "outputs": []
    },
    {
     "cell_type": "heading",
     "level": 1,
     "metadata": {},
     "source": [
      "\u722c\u53d6\u6240\u6709\u98df\u6750"
     ]
    },
    {
     "cell_type": "code",
     "collapsed": false,
     "input": [
      "soup = BeautifulSoup(res.text)\n",
      "soup = soup.find_all('a', {'class':'list-title'})\n",
      "soup = list(cook_type[: -8])\n",
      "\n",
      "links = []\n",
      "names = []\n",
      "# \u7522\u751f\u6bcf\u500b\u985e\u5225\u7684\u7db2\u5740\n",
      "for item in soup:\n",
      "    tmp = str(item)\n",
      "    head_idx = tmp.index('href') + 6\n",
      "    tail_idx = tmp.index('>') - 1\n",
      "    links.append('http://icook.tw' + tmp[head_idx: tail_idx] + '?')\n",
      "    \n",
      "    \n",
      "# \u7522\u751f\u6bcf\u500b\u985e\u5225\u7684\u540d\u7a31    \n",
      "for item in soup:\n",
      "    tmp = str(item)\n",
      "    head_idx = tmp.index('>') + 1\n",
      "    tail_idx = tmp.index('</a>')\n",
      "    names.append(tmp[head_idx: tail_idx])\n",
      "    \n",
      "    \n",
      "# \u5beb\u5165\u6240\u6709\u98df\u6750    \n",
      "for i in range(len(links)):\n",
      "    page = 1\n",
      "    f = open(names[i] + '.txt', 'w')\n",
      "    while(True):\n",
      "        recipe = requests.get(links[i] + 'page=' + str(page))\n",
      "        page += 1\n",
      "        soup = BeautifulSoup(recipe.text)\n",
      "        ingredients = soup.select('.material')\n",
      "        if ingredients == []:\n",
      "            break\n",
      "        for item in ingredients:\n",
      "            print 'writing...', item.text, 'to', names[i]\n",
      "            f.write(item.text.encode('utf8')+ '\\\\n')    \n",
      "        time.sleep(1.5)    \n",
      "    f.close()\n"
     ],
     "language": "python",
     "metadata": {},
     "outputs": []
    }
   ],
   "metadata": {}
  }
 ]
}